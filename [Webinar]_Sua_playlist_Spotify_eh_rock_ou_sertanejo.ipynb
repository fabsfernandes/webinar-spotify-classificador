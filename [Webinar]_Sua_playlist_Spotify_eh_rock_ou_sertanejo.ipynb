{
  "nbformat": 4,
  "nbformat_minor": 0,
  "metadata": {
    "colab": {
      "name": "[Webinar] Sua playlist Spotify eh rock ou sertanejo.ipynb",
      "provenance": []
    },
    "kernelspec": {
      "name": "python3",
      "display_name": "Python 3"
    }
  },
  "cells": [
    {
      "cell_type": "markdown",
      "metadata": {
        "id": "pkyp9ovPsJxT",
        "colab_type": "text"
      },
      "source": [
        "# Acessando Spotify "
      ]
    },
    {
      "cell_type": "code",
      "metadata": {
        "id": "ch8RTDMel6ee",
        "colab_type": "code",
        "colab": {
          "base_uri": "https://localhost:8080/",
          "height": 139
        },
        "outputId": "a7e12ac8-651e-47d6-e5d1-a3508d33ee23"
      },
      "source": [
        "!pip install spotipy\n",
        "import spotipy\n",
        "import spotipy.util as util\n",
        "from spotipy.oauth2 import SpotifyClientCredentials"
      ],
      "execution_count": 36,
      "outputs": [
        {
          "output_type": "stream",
          "text": [
            "Requirement already satisfied: spotipy in /usr/local/lib/python3.6/dist-packages (2.4.4)\n",
            "Requirement already satisfied: requests>=1.0 in /usr/local/lib/python3.6/dist-packages (from spotipy) (2.21.0)\n",
            "Requirement already satisfied: chardet<3.1.0,>=3.0.2 in /usr/local/lib/python3.6/dist-packages (from requests>=1.0->spotipy) (3.0.4)\n",
            "Requirement already satisfied: idna<2.9,>=2.5 in /usr/local/lib/python3.6/dist-packages (from requests>=1.0->spotipy) (2.8)\n",
            "Requirement already satisfied: certifi>=2017.4.17 in /usr/local/lib/python3.6/dist-packages (from requests>=1.0->spotipy) (2019.9.11)\n",
            "Requirement already satisfied: urllib3<1.25,>=1.21.1 in /usr/local/lib/python3.6/dist-packages (from requests>=1.0->spotipy) (1.24.3)\n"
          ],
          "name": "stdout"
        }
      ]
    },
    {
      "cell_type": "code",
      "metadata": {
        "id": "UY8LduejoBDm",
        "colab_type": "code",
        "colab": {}
      },
      "source": [
        "client_id= \"your-client-id\"\n",
        "client_secret= \"your-client-secret\"\n",
        "redirect_uri='http://www.google.com/'\n",
        "\n",
        "username='your-username'\n",
        "client_credentials_manager = SpotifyClientCredentials(client_id=client_id, client_secret=client_secret) \n",
        "scope = 'user-library-read playlist-read-private '\n",
        "try:\n",
        "    token = util.prompt_for_user_token(username, scope,client_id=client_id, client_secret=client_secret, redirect_uri=redirect_uri)  \n",
        "    sp=spotipy.Spotify(auth= token)\n",
        "except:\n",
        "    print('Token is not accesible for ' + username)"
      ],
      "execution_count": 0,
      "outputs": []
    },
    {
      "cell_type": "markdown",
      "metadata": {
        "id": "tgNeeEGmsXo3",
        "colab_type": "text"
      },
      "source": [
        "# Obtendo dados da playlist"
      ]
    },
    {
      "cell_type": "code",
      "metadata": {
        "id": "bJ4DdHrvm5tC",
        "colab_type": "code",
        "colab": {}
      },
      "source": [
        "#playlist_id = '2EsHTaxvdUo0IaCcmTpzRW'\n",
        "#playlist_id = '37i9dQZF1DX5lAV5ZGu9ik'\n",
        "playlist_id = '37i9dQZF1DX9wC1KY45plY'"
      ],
      "execution_count": 0,
      "outputs": []
    },
    {
      "cell_type": "code",
      "metadata": {
        "id": "gIDSYjxNm6iy",
        "colab_type": "code",
        "colab": {}
      },
      "source": [
        "### build dataset ###\n",
        "tracksIdList = []\n",
        "genresListsList = []\n",
        "genreFirstList = []\n",
        "nameList = []\n",
        "\n",
        "\n",
        "full_playlist = sp.user_playlist_tracks(username, playlist_id, fields=None, limit=100, market=None)\n",
        "for item in full_playlist['items']:\n",
        "  track = item['track']\n",
        "  if track:\n",
        "    if track['id']:\n",
        "      tracksIdList.append(track['id'])\n",
        "      artists = track['artists']\n",
        "      genresList = []\n",
        "      for artist in artists:\n",
        "        artist = sp.artist(artist['id'])\n",
        "        #print(artist['name'])\n",
        "        genresList = genresList+artist['genres']\n",
        "      genresList = list(set(genresList))\n",
        "      genresListsList.append(genresList)\n",
        "      if genresList:\n",
        "        genreFirstList.append(genresList[0])\n",
        "      else:\n",
        "        genreFirstList.append(None)\n",
        "      if track['name']:\n",
        "        nameList.append(track['name'])\n",
        "      else:\n",
        "        nameList.append(None)\n",
        "      #print(track['id'], track['name'])\n"
      ],
      "execution_count": 0,
      "outputs": []
    },
    {
      "cell_type": "code",
      "metadata": {
        "id": "VpKZuWOWm5bw",
        "colab_type": "code",
        "colab": {
          "base_uri": "https://localhost:8080/",
          "height": 34
        },
        "outputId": "c905fa54-0862-46ce-f3dc-3f73da0936ea"
      },
      "source": [
        "len(tracksIdList)"
      ],
      "execution_count": 42,
      "outputs": [
        {
          "output_type": "execute_result",
          "data": {
            "text/plain": [
              "100"
            ]
          },
          "metadata": {
            "tags": []
          },
          "execution_count": 42
        }
      ]
    },
    {
      "cell_type": "code",
      "metadata": {
        "id": "TuP7D8zXn069",
        "colab_type": "code",
        "colab": {}
      },
      "source": [
        "audio_features = []\n",
        "init = 0\n",
        "end = 0\n",
        "while end < len(tracksIdList):\n",
        "  init = end\n",
        "  if init+50 < len(tracksIdList):\n",
        "    end = init+50\n",
        "  else:\n",
        "    end = len(tracksIdList)\n",
        "  audio_features = audio_features+sp.audio_features(tracks=tracksIdList[init:end])"
      ],
      "execution_count": 0,
      "outputs": []
    },
    {
      "cell_type": "code",
      "metadata": {
        "id": "AjUTpDt8rVIa",
        "colab_type": "code",
        "colab": {
          "base_uri": "https://localhost:8080/",
          "height": 34
        },
        "outputId": "30b0cd46-c665-4b85-fef7-c3b7f208702a"
      },
      "source": [
        "len(audio_features)"
      ],
      "execution_count": 44,
      "outputs": [
        {
          "output_type": "execute_result",
          "data": {
            "text/plain": [
              "100"
            ]
          },
          "metadata": {
            "tags": []
          },
          "execution_count": 44
        }
      ]
    },
    {
      "cell_type": "code",
      "metadata": {
        "id": "zJN8huiwn6i-",
        "colab_type": "code",
        "colab": {}
      },
      "source": [
        "import pandas as pd\n",
        "df = pd.DataFrame(audio_features)\n",
        "df['name'] = nameList\n",
        "df['genres'] = genresListsList\n",
        "df['genre'] = genreFirstList"
      ],
      "execution_count": 0,
      "outputs": []
    },
    {
      "cell_type": "code",
      "metadata": {
        "id": "WtzlUhEgp0_A",
        "colab_type": "code",
        "colab": {
          "base_uri": "https://localhost:8080/",
          "height": 318
        },
        "outputId": "ea64b9b2-cb74-42e1-8402-7e139f1c4d6c"
      },
      "source": [
        "df.head(2)"
      ],
      "execution_count": 46,
      "outputs": [
        {
          "output_type": "execute_result",
          "data": {
            "text/html": [
              "<div>\n",
              "<style scoped>\n",
              "    .dataframe tbody tr th:only-of-type {\n",
              "        vertical-align: middle;\n",
              "    }\n",
              "\n",
              "    .dataframe tbody tr th {\n",
              "        vertical-align: top;\n",
              "    }\n",
              "\n",
              "    .dataframe thead th {\n",
              "        text-align: right;\n",
              "    }\n",
              "</style>\n",
              "<table border=\"1\" class=\"dataframe\">\n",
              "  <thead>\n",
              "    <tr style=\"text-align: right;\">\n",
              "      <th></th>\n",
              "      <th>danceability</th>\n",
              "      <th>energy</th>\n",
              "      <th>key</th>\n",
              "      <th>loudness</th>\n",
              "      <th>mode</th>\n",
              "      <th>speechiness</th>\n",
              "      <th>acousticness</th>\n",
              "      <th>instrumentalness</th>\n",
              "      <th>liveness</th>\n",
              "      <th>valence</th>\n",
              "      <th>tempo</th>\n",
              "      <th>type</th>\n",
              "      <th>id</th>\n",
              "      <th>uri</th>\n",
              "      <th>track_href</th>\n",
              "      <th>analysis_url</th>\n",
              "      <th>duration_ms</th>\n",
              "      <th>time_signature</th>\n",
              "      <th>name</th>\n",
              "      <th>genres</th>\n",
              "      <th>genre</th>\n",
              "    </tr>\n",
              "  </thead>\n",
              "  <tbody>\n",
              "    <tr>\n",
              "      <th>0</th>\n",
              "      <td>0.730</td>\n",
              "      <td>0.858</td>\n",
              "      <td>5</td>\n",
              "      <td>-8.221</td>\n",
              "      <td>1</td>\n",
              "      <td>0.0360</td>\n",
              "      <td>0.179</td>\n",
              "      <td>0.000002</td>\n",
              "      <td>0.0611</td>\n",
              "      <td>0.765</td>\n",
              "      <td>131.445</td>\n",
              "      <td>audio_features</td>\n",
              "      <td>0bV4WoGRzmYV6y7OojZvqr</td>\n",
              "      <td>spotify:track:0bV4WoGRzmYV6y7OojZvqr</td>\n",
              "      <td>https://api.spotify.com/v1/tracks/0bV4WoGRzmYV...</td>\n",
              "      <td>https://api.spotify.com/v1/audio-analysis/0bV4...</td>\n",
              "      <td>275387</td>\n",
              "      <td>4</td>\n",
              "      <td>Don't Go Breaking My Heart</td>\n",
              "      <td>[rock, piano rock, classic uk pop, glam rock, ...</td>\n",
              "      <td>rock</td>\n",
              "    </tr>\n",
              "    <tr>\n",
              "      <th>1</th>\n",
              "      <td>0.554</td>\n",
              "      <td>0.783</td>\n",
              "      <td>6</td>\n",
              "      <td>-5.852</td>\n",
              "      <td>1</td>\n",
              "      <td>0.0457</td>\n",
              "      <td>0.416</td>\n",
              "      <td>0.000002</td>\n",
              "      <td>0.6310</td>\n",
              "      <td>0.813</td>\n",
              "      <td>105.390</td>\n",
              "      <td>audio_features</td>\n",
              "      <td>4w3tQBXhn5345eUXDGBWZG</td>\n",
              "      <td>spotify:track:4w3tQBXhn5345eUXDGBWZG</td>\n",
              "      <td>https://api.spotify.com/v1/tracks/4w3tQBXhn534...</td>\n",
              "      <td>https://api.spotify.com/v1/audio-analysis/4w3t...</td>\n",
              "      <td>162467</td>\n",
              "      <td>4</td>\n",
              "      <td>9 to 5</td>\n",
              "      <td>[classic country pop, country dawn, country]</td>\n",
              "      <td>classic country pop</td>\n",
              "    </tr>\n",
              "  </tbody>\n",
              "</table>\n",
              "</div>"
            ],
            "text/plain": [
              "   danceability  ...                genre\n",
              "0         0.730  ...                 rock\n",
              "1         0.554  ...  classic country pop\n",
              "\n",
              "[2 rows x 21 columns]"
            ]
          },
          "metadata": {
            "tags": []
          },
          "execution_count": 46
        }
      ]
    },
    {
      "cell_type": "markdown",
      "metadata": {
        "id": "Eyc8DOfLsuLT",
        "colab_type": "text"
      },
      "source": [
        "# Fazendo predições para a playlist"
      ]
    },
    {
      "cell_type": "code",
      "metadata": {
        "id": "fcCctXNBpg2N",
        "colab_type": "code",
        "colab": {
          "base_uri": "https://localhost:8080/",
          "height": 255
        },
        "outputId": "c992f8e6-b0b9-48d1-97cb-a4dddca15c3a"
      },
      "source": [
        "# build dataset according to feature engineering step\n",
        "features = ['danceability', 'energy', 'loudness', 'speechiness', 'acousticness', 'instrumentalness','liveness', 'valence']\n",
        "your_playlist_df = df[features+['name']]\n",
        "your_playlist_df = your_playlist_df.dropna()\n",
        "your_playlist_df.head()"
      ],
      "execution_count": 47,
      "outputs": [
        {
          "output_type": "execute_result",
          "data": {
            "text/html": [
              "<div>\n",
              "<style scoped>\n",
              "    .dataframe tbody tr th:only-of-type {\n",
              "        vertical-align: middle;\n",
              "    }\n",
              "\n",
              "    .dataframe tbody tr th {\n",
              "        vertical-align: top;\n",
              "    }\n",
              "\n",
              "    .dataframe thead th {\n",
              "        text-align: right;\n",
              "    }\n",
              "</style>\n",
              "<table border=\"1\" class=\"dataframe\">\n",
              "  <thead>\n",
              "    <tr style=\"text-align: right;\">\n",
              "      <th></th>\n",
              "      <th>danceability</th>\n",
              "      <th>energy</th>\n",
              "      <th>loudness</th>\n",
              "      <th>speechiness</th>\n",
              "      <th>acousticness</th>\n",
              "      <th>instrumentalness</th>\n",
              "      <th>liveness</th>\n",
              "      <th>valence</th>\n",
              "      <th>name</th>\n",
              "    </tr>\n",
              "  </thead>\n",
              "  <tbody>\n",
              "    <tr>\n",
              "      <th>0</th>\n",
              "      <td>0.730</td>\n",
              "      <td>0.858</td>\n",
              "      <td>-8.221</td>\n",
              "      <td>0.0360</td>\n",
              "      <td>0.1790</td>\n",
              "      <td>0.000002</td>\n",
              "      <td>0.0611</td>\n",
              "      <td>0.765</td>\n",
              "      <td>Don't Go Breaking My Heart</td>\n",
              "    </tr>\n",
              "    <tr>\n",
              "      <th>1</th>\n",
              "      <td>0.554</td>\n",
              "      <td>0.783</td>\n",
              "      <td>-5.852</td>\n",
              "      <td>0.0457</td>\n",
              "      <td>0.4160</td>\n",
              "      <td>0.000002</td>\n",
              "      <td>0.6310</td>\n",
              "      <td>0.813</td>\n",
              "      <td>9 to 5</td>\n",
              "    </tr>\n",
              "    <tr>\n",
              "      <th>2</th>\n",
              "      <td>0.887</td>\n",
              "      <td>0.480</td>\n",
              "      <td>-11.994</td>\n",
              "      <td>0.1170</td>\n",
              "      <td>0.0094</td>\n",
              "      <td>0.000036</td>\n",
              "      <td>0.0662</td>\n",
              "      <td>0.607</td>\n",
              "      <td>Faith - Remastered</td>\n",
              "    </tr>\n",
              "    <tr>\n",
              "      <th>3</th>\n",
              "      <td>0.599</td>\n",
              "      <td>0.762</td>\n",
              "      <td>-6.887</td>\n",
              "      <td>0.0423</td>\n",
              "      <td>0.7140</td>\n",
              "      <td>0.000004</td>\n",
              "      <td>0.3500</td>\n",
              "      <td>0.715</td>\n",
              "      <td>Crazy Little Thing Called Love - Remastered 2011</td>\n",
              "    </tr>\n",
              "    <tr>\n",
              "      <th>4</th>\n",
              "      <td>0.535</td>\n",
              "      <td>0.716</td>\n",
              "      <td>-5.025</td>\n",
              "      <td>0.0431</td>\n",
              "      <td>0.3260</td>\n",
              "      <td>0.000000</td>\n",
              "      <td>0.6590</td>\n",
              "      <td>0.901</td>\n",
              "      <td>I Love Rock 'N Roll</td>\n",
              "    </tr>\n",
              "  </tbody>\n",
              "</table>\n",
              "</div>"
            ],
            "text/plain": [
              "   danceability  ...                                              name\n",
              "0         0.730  ...                        Don't Go Breaking My Heart\n",
              "1         0.554  ...                                            9 to 5\n",
              "2         0.887  ...                                Faith - Remastered\n",
              "3         0.599  ...  Crazy Little Thing Called Love - Remastered 2011\n",
              "4         0.535  ...                               I Love Rock 'N Roll\n",
              "\n",
              "[5 rows x 9 columns]"
            ]
          },
          "metadata": {
            "tags": []
          },
          "execution_count": 47
        }
      ]
    },
    {
      "cell_type": "code",
      "metadata": {
        "id": "l7iuP5fXmS-u",
        "colab_type": "code",
        "colab": {}
      },
      "source": [
        "# load classifier\n",
        "from sklearn.externals import joblib\n",
        "model = joblib.load('genre-rock-sertanejo-model.joblib')"
      ],
      "execution_count": 0,
      "outputs": []
    },
    {
      "cell_type": "code",
      "metadata": {
        "id": "seYzx3fRmufY",
        "colab_type": "code",
        "colab": {}
      },
      "source": [
        "# do predictions\n",
        "predictions = model.predict(your_playlist_df[features])"
      ],
      "execution_count": 0,
      "outputs": []
    },
    {
      "cell_type": "code",
      "metadata": {
        "id": "qPxOsOdyqsHt",
        "colab_type": "code",
        "colab": {
          "base_uri": "https://localhost:8080/",
          "height": 374
        },
        "outputId": "b32f0cc6-209d-4e71-f546-5cda0c9212a4"
      },
      "source": [
        "# analyze results\n",
        "your_playlist_df['predicted_genre'] = predictions\n",
        "your_playlist_df['predicted_genre'].value_counts().plot(kind='bar', figsize=(10,5))"
      ],
      "execution_count": 50,
      "outputs": [
        {
          "output_type": "execute_result",
          "data": {
            "text/plain": [
              "<matplotlib.axes._subplots.AxesSubplot at 0x7f78346fce10>"
            ]
          },
          "metadata": {
            "tags": []
          },
          "execution_count": 50
        },
        {
          "output_type": "display_data",
          "data": {
            "image/png": "[encoded data removed]",
            "text/plain": [
              "<Figure size 720x360 with 1 Axes>"
            ]
          },
          "metadata": {
            "tags": []
          }
        }
      ]
    },
    {
      "cell_type": "code",
      "metadata": {
        "id": "EDNASgt9q3fJ",
        "colab_type": "code",
        "colab": {}
      },
      "source": [
        ""
      ],
      "execution_count": 0,
      "outputs": []
    }
  ]
}